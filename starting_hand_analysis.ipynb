{
 "cells": [
  {
   "cell_type": "markdown",
   "metadata": {},
   "source": [
    "# How do the possible starting hands in texas holdem rank against each other\n",
    "\n",
    "Or: how good is my hand?"
   ]
  },
  {
   "cell_type": "markdown",
   "metadata": {},
   "source": [
    "Let's start with just one hand (Ace of Hearts, 6 of Hearts) and get a sense of how often it beats one other player"
   ]
  },
  {
   "cell_type": "code",
   "execution_count": 1,
   "metadata": {},
   "outputs": [],
   "source": [
    "import pandas as pd\n",
    "from texas_hold_em_utils.card import Card\n",
    "from texas_hold_em_utils.deck import Deck\n",
    "from texas_hold_em_utils.hands import HandOfFive\n",
    "\n",
    "card_1 = Card().from_str(\"A\", \"Hearts\")\n",
    "card_2 = Card().from_str(\"6\", \"Hearts\")\n",
    "\n",
    "deck = Deck()\n",
    "# remove my cards from the deck\n",
    "deck.remove(card_1)\n",
    "deck.remove(card_2)"
   ]
  },
  {
   "cell_type": "code",
   "execution_count": 2,
   "metadata": {},
   "outputs": [
    {
     "ename": "KeyboardInterrupt",
     "evalue": "",
     "output_type": "error",
     "traceback": [
      "\u001b[1;31m---------------------------------------------------------------------------\u001b[0m",
      "\u001b[1;31mKeyboardInterrupt\u001b[0m                         Traceback (most recent call last)",
      "Cell \u001b[1;32mIn[2], line 31\u001b[0m\n\u001b[0;32m     29\u001b[0m deck_7\u001b[38;5;241m.\u001b[39mremove(turn_card)\n\u001b[0;32m     30\u001b[0m \u001b[38;5;28;01mfor\u001b[39;00m river_card \u001b[38;5;129;01min\u001b[39;00m deck_7\u001b[38;5;241m.\u001b[39mcards: \u001b[38;5;66;03m# 44 possible cards for each turn_card\u001b[39;00m\n\u001b[1;32m---> 31\u001b[0m     my_hand \u001b[38;5;241m=\u001b[39m \u001b[43mHandOfFive\u001b[49m\u001b[43m(\u001b[49m\u001b[43m[\u001b[49m\u001b[43mcard_1\u001b[49m\u001b[43m,\u001b[49m\u001b[43m \u001b[49m\u001b[43mcard_2\u001b[49m\u001b[43m]\u001b[49m\u001b[43m,\u001b[49m\u001b[43m \u001b[49m\u001b[43m[\u001b[49m\u001b[43mflop_card_1\u001b[49m\u001b[43m,\u001b[49m\u001b[43m \u001b[49m\u001b[43mflop_card_2\u001b[49m\u001b[43m,\u001b[49m\u001b[43m \u001b[49m\u001b[43mflop_card_3\u001b[49m\u001b[43m,\u001b[49m\u001b[43m \u001b[49m\u001b[43mturn_card\u001b[49m\u001b[43m,\u001b[49m\u001b[43m \u001b[49m\u001b[43mriver_card\u001b[49m\u001b[43m]\u001b[49m\u001b[43m)\u001b[49m\n\u001b[0;32m     32\u001b[0m     opponent_hand \u001b[38;5;241m=\u001b[39m HandOfFive([opponent_card_1, opponent_card_2], [flop_card_1, flop_card_2, flop_card_3, turn_card, river_card])\n\u001b[0;32m     33\u001b[0m     \u001b[38;5;28;01mif\u001b[39;00m my_hand \u001b[38;5;241m>\u001b[39m opponent_hand:\n",
      "File \u001b[1;32mc:\\Users\\amarl\\dev\\poker\\poker-walkthroughs\\.venv\\Lib\\site-packages\\texas_hold_em_utils\\hands.py:52\u001b[0m, in \u001b[0;36mHandOfFive.__init__\u001b[1;34m(self, hand_cards, community_cards)\u001b[0m\n\u001b[0;32m     50\u001b[0m \u001b[38;5;28mself\u001b[39m\u001b[38;5;241m.\u001b[39mhand_cards \u001b[38;5;241m=\u001b[39m hand_cards\n\u001b[0;32m     51\u001b[0m \u001b[38;5;28mself\u001b[39m\u001b[38;5;241m.\u001b[39mcommunity_cards \u001b[38;5;241m=\u001b[39m community_cards\n\u001b[1;32m---> 52\u001b[0m \u001b[38;5;28;43mself\u001b[39;49m\u001b[38;5;241;43m.\u001b[39;49m\u001b[43mdetermine_best\u001b[49m\u001b[43m(\u001b[49m\u001b[43mhand_cards\u001b[49m\u001b[43m,\u001b[49m\u001b[43m \u001b[49m\u001b[43mcommunity_cards\u001b[49m\u001b[43m)\u001b[49m\n",
      "File \u001b[1;32mc:\\Users\\amarl\\dev\\poker\\poker-walkthroughs\\.venv\\Lib\\site-packages\\texas_hold_em_utils\\hands.py:64\u001b[0m, in \u001b[0;36mHandOfFive.determine_best\u001b[1;34m(self, hand_cards, community_cards)\u001b[0m\n\u001b[0;32m     55\u001b[0m \u001b[38;5;250m\u001b[39m\u001b[38;5;124;03m\"\"\"\u001b[39;00m\n\u001b[0;32m     56\u001b[0m \u001b[38;5;124;03mDetermines the best hand from the hand and community cards\u001b[39;00m\n\u001b[0;32m     57\u001b[0m \u001b[38;5;124;03m:param hand_cards: list of 2 cards\u001b[39;00m\n\u001b[1;32m   (...)\u001b[0m\n\u001b[0;32m     61\u001b[0m \u001b[38;5;124;03mof a kind first, then the pair\u001b[39;00m\n\u001b[0;32m     62\u001b[0m \u001b[38;5;124;03m\"\"\"\u001b[39;00m\n\u001b[0;32m     63\u001b[0m \u001b[38;5;28;01mfor\u001b[39;00m i \u001b[38;5;129;01min\u001b[39;00m \u001b[38;5;28mrange\u001b[39m(\u001b[38;5;28mlen\u001b[39m(HAND_FUNCTIONS)):\n\u001b[1;32m---> 64\u001b[0m     \u001b[38;5;28mself\u001b[39m\u001b[38;5;241m.\u001b[39mhand \u001b[38;5;241m=\u001b[39m \u001b[43mHAND_FUNCTIONS\u001b[49m\u001b[43m[\u001b[49m\u001b[43mi\u001b[49m\u001b[43m]\u001b[49m\u001b[43m(\u001b[49m\u001b[43mhand_cards\u001b[49m\u001b[43m,\u001b[49m\u001b[43m \u001b[49m\u001b[43mcommunity_cards\u001b[49m\u001b[43m)\u001b[49m\n\u001b[0;32m     65\u001b[0m     \u001b[38;5;28;01mif\u001b[39;00m \u001b[38;5;28mself\u001b[39m\u001b[38;5;241m.\u001b[39mhand \u001b[38;5;129;01mis\u001b[39;00m \u001b[38;5;129;01mnot\u001b[39;00m \u001b[38;5;28;01mNone\u001b[39;00m:\n\u001b[0;32m     66\u001b[0m         \u001b[38;5;28mself\u001b[39m\u001b[38;5;241m.\u001b[39mhand_rank \u001b[38;5;241m=\u001b[39m \u001b[38;5;241m9\u001b[39m \u001b[38;5;241m-\u001b[39m i\n",
      "File \u001b[1;32mc:\\Users\\amarl\\dev\\poker\\poker-walkthroughs\\.venv\\Lib\\site-packages\\texas_hold_em_utils\\game_utils.py:-1\u001b[0m, in \u001b[0;36mfind_straight\u001b[1;34m(hand, community_cards)\u001b[0m\n\u001b[0;32m      0\u001b[0m <Error retrieving source code with stack_data see ipython/ipython#13598>\n",
      "\u001b[1;31mKeyboardInterrupt\u001b[0m: "
     ]
    }
   ],
   "source": [
    "# iterate through all possible combinations of the remaining cards and count wins, lossess, and ties\n",
    "win_count = 0\n",
    "loss_count = 0\n",
    "tie_count = 0\n",
    "\n",
    "for opponent_card_1 in deck.cards: # 50 possible cards\n",
    "    deck_2 = Deck()\n",
    "    deck_2.cards = deck.cards.copy()\n",
    "    deck_2.remove(opponent_card_1)\n",
    "    for opponent_card_2 in deck_2.cards: # 49 possible cards for each opponent_card_1\n",
    "        deck_3 = Deck()\n",
    "        deck_3.cards = deck_2.cards.copy()\n",
    "        deck_3.remove(opponent_card_2)\n",
    "        for flop_card_1 in deck_3.cards: # 48 possible cards for each opponent_card_2\n",
    "            deck_4 = Deck()\n",
    "            deck_4.cards = deck_3.cards.copy()\n",
    "            deck_4.remove(flop_card_1)\n",
    "            for flop_card_2 in deck_4.cards: # 47 possible cards for each flop_card_1\n",
    "                deck_5 = Deck()\n",
    "                deck_5.cards = deck_4.cards.copy()\n",
    "                deck_5.remove(flop_card_2)\n",
    "                for flop_card_3 in deck_5.cards: # 46 possible cards for each flop_card_2\n",
    "                    deck_6 = Deck()\n",
    "                    deck_6.cards = deck_5.cards.copy()\n",
    "                    deck_6.remove(flop_card_3)\n",
    "                    for turn_card in deck_6.cards: # 45 possible cards for each flop_card_3\n",
    "                        deck_7 = Deck()\n",
    "                        deck_7.cards = deck_6.cards.copy()\n",
    "                        deck_7.remove(turn_card)\n",
    "                        for river_card in deck_7.cards: # 44 possible cards for each turn_card\n",
    "                            my_hand = HandOfFive([card_1, card_2], [flop_card_1, flop_card_2, flop_card_3, turn_card, river_card])\n",
    "                            opponent_hand = HandOfFive([opponent_card_1, opponent_card_2], [flop_card_1, flop_card_2, flop_card_3, turn_card, river_card])\n",
    "                            if my_hand > opponent_hand:\n",
    "                                win_count += 1\n",
    "                            elif my_hand < opponent_hand:\n",
    "                                loss_count += 1\n",
    "                            else:\n",
    "                                tie_count += 1\n",
    "                            "
   ]
  },
  {
   "cell_type": "code",
   "execution_count": 3,
   "metadata": {},
   "outputs": [
    {
     "data": {
      "text/plain": [
       "503417376000"
      ]
     },
     "execution_count": 3,
     "metadata": {},
     "output_type": "execute_result"
    }
   ],
   "source": [
    "# 503,417,376,000 - half a trillion combinations to explore... not feasible. \n",
    "# even if you do a million per second it would take almost 6 days\n",
    "50 * 49 * 48 * 47 * 46 * 45 * 44"
   ]
  },
  {
   "cell_type": "markdown",
   "metadata": {},
   "source": [
    "# A Better Approach\n",
    "\n",
    "Take a *random* sample of a few thousand different hands to play against\n",
    "\n",
    "- Provides a good approximation of the ratio of wins to losses to ties\n",
    "- Takes far less time so we can try different hands and see how they compare"
   ]
  },
  {
   "cell_type": "code",
   "execution_count": 4,
   "metadata": {},
   "outputs": [
    {
     "name": "stdout",
     "output_type": "stream",
     "text": [
      "win count: 5893\n",
      "loss count: 3790\n",
      "tie count: 317\n"
     ]
    }
   ],
   "source": [
    "card_1 = Card().from_str(\"A\", \"Hearts\")\n",
    "card_2 = Card().from_str(\"6\", \"Hearts\")\n",
    "\n",
    "deck = Deck()\n",
    "# remove my cards from the deck\n",
    "deck.remove(card_1)\n",
    "deck.remove(card_2)\n",
    "\n",
    "win_count = 0\n",
    "loss_count = 0\n",
    "tie_count = 0\n",
    "\n",
    "for i in range(10000):\n",
    "    round_deck = Deck()\n",
    "    round_deck.cards = deck.cards.copy()\n",
    "    round_deck.shuffle()\n",
    "    opponent_card_1 = round_deck.draw()\n",
    "    opponent_card_2 = round_deck.draw()\n",
    "    flop_card_1 = round_deck.draw()\n",
    "    flop_card_2 = round_deck.draw()\n",
    "    flop_card_3 = round_deck.draw()\n",
    "    turn_card = round_deck.draw()\n",
    "    river_card = round_deck.draw()\n",
    "    my_hand = HandOfFive([card_1, card_2], [flop_card_1, flop_card_2, flop_card_3, turn_card, river_card])\n",
    "    opponent_hand = HandOfFive([opponent_card_1, opponent_card_2], [flop_card_1, flop_card_2, flop_card_3, turn_card, river_card])\n",
    "    if my_hand > opponent_hand:\n",
    "        win_count += 1\n",
    "    elif my_hand < opponent_hand:\n",
    "        loss_count += 1\n",
    "    else:\n",
    "        tie_count += 1\n",
    "print(f\"win count: {win_count}\")\n",
    "print(f\"loss count: {loss_count}\")\n",
    "print(f\"tie count: {tie_count}\")"
   ]
  },
  {
   "cell_type": "code",
   "execution_count": 5,
   "metadata": {},
   "outputs": [
    {
     "data": {
      "text/plain": [
       "60.51499999999999"
      ]
     },
     "execution_count": 5,
     "metadata": {},
     "output_type": "execute_result"
    }
   ],
   "source": [
    "100 * (((win_count * 2) + tie_count) / (2 *(win_count + loss_count + tie_count)))"
   ]
  },
  {
   "cell_type": "markdown",
   "metadata": {},
   "source": [
    "So Ace of Hearts, 6 of Hearts wins about 60% of the time. That percentage could vary though, run the 2 cells above again to see the percentage change a bit every time."
   ]
  },
  {
   "cell_type": "markdown",
   "metadata": {},
   "source": [
    "# Getting to the actual ranking\n",
    "\n",
    "That tells us how often a particular hand wins. but it doesn't tell us which hands are the best and how they compare to each other. \n",
    "We can use the same process to come up with approximate win percentages for each hand and produce relative rankings."
   ]
  },
  {
   "cell_type": "code",
   "execution_count": 6,
   "metadata": {},
   "outputs": [
    {
     "name": "stderr",
     "output_type": "stream",
     "text": [
      "C:\\Users\\amarl\\AppData\\Local\\Temp\\ipykernel_31220\\2154449094.py:34: FutureWarning: The behavior of DataFrame concatenation with empty or all-NA entries is deprecated. In a future version, this will no longer exclude empty or all-NA columns when determining the result dtypes. To retain the old behavior, exclude the relevant entries before the concat operation.\n",
      "  data = pd.concat([data, pd.DataFrame([[card_1, card_2, win_rate]], columns=['card_1', 'card_2', 'win_rate'])], ignore_index=True)\n"
     ]
    }
   ],
   "source": [
    "deck = Deck()\n",
    "data = pd.DataFrame(columns=['card_1', 'card_2', 'win_rate'])\n",
    "for card_1 in deck.cards:\n",
    "    deck_2 = Deck()\n",
    "    deck_2.cards = deck.cards.copy()\n",
    "    deck_2.remove(card_1)\n",
    "    for card_2 in deck_2.cards:\n",
    "        deck_3 = Deck()\n",
    "        deck_3.cards = deck_2.cards.copy()\n",
    "        deck_3.remove(card_2)\n",
    "        win_count = 0\n",
    "        loss_count = 0\n",
    "        tie_count = 0\n",
    "        for i in range(1000): # takes about 2 minutes to run 1000 simulations for each combination of cards on my machine\n",
    "            round_deck = Deck()\n",
    "            round_deck.cards = deck_3.cards.copy()\n",
    "            round_deck.shuffle()\n",
    "            opponent_card_1 = round_deck.draw()\n",
    "            opponent_card_2 = round_deck.draw()\n",
    "            flop_card_1 = round_deck.draw()\n",
    "            flop_card_2 = round_deck.draw()\n",
    "            flop_card_3 = round_deck.draw()\n",
    "            turn_card = round_deck.draw()\n",
    "            river_card = round_deck.draw()\n",
    "            my_hand = HandOfFive([card_1, card_2], [flop_card_1, flop_card_2, flop_card_3, turn_card, river_card])\n",
    "            opponent_hand = HandOfFive([opponent_card_1, opponent_card_2], [flop_card_1, flop_card_2, flop_card_3, turn_card, river_card])\n",
    "            if my_hand > opponent_hand:\n",
    "                win_count += 1\n",
    "            elif my_hand < opponent_hand:\n",
    "                loss_count += 1\n",
    "            else:\n",
    "                tie_count += 1\n",
    "        win_rate = 100 * (((win_count * 2) + tie_count) / (2 *(win_count + loss_count + tie_count)))\n",
    "        data = pd.concat([data, pd.DataFrame([[card_1, card_2, win_rate]], columns=['card_1', 'card_2', 'win_rate'])], ignore_index=True)"
   ]
  },
  {
   "cell_type": "code",
   "execution_count": 7,
   "metadata": {},
   "outputs": [
    {
     "data": {
      "text/plain": [
       "<Axes: xlabel='win_rate', ylabel='Count'>"
      ]
     },
     "execution_count": 7,
     "metadata": {},
     "output_type": "execute_result"
    },
    {
     "data": {
      "image/png": "[encoded data removed]",
      "text/plain": [
       "<Figure size 640x480 with 1 Axes>"
      ]
     },
     "metadata": {},
     "output_type": "display_data"
    }
   ],
   "source": [
    "import matplotlib.pyplot as plt\n",
    "import seaborn as sns\n",
    "\n",
    "sns.histplot(data=data, x='win_rate', bins=30)"
   ]
  },
  {
   "cell_type": "code",
   "execution_count": 8,
   "metadata": {},
   "outputs": [],
   "source": [
    "# now sort by win rate\n",
    "data.sort_values(by='win_rate', ascending=False, inplace=True)"
   ]
  },
  {
   "cell_type": "code",
   "execution_count": 9,
   "metadata": {},
   "outputs": [
    {
     "data": {
      "text/plain": [
       "{'expected_win_rate': 0.5943123923785146,\n",
       " 'expected_2_player_win_rate': 0.5943123923785146,\n",
       " 'percentile': 82.15384615384616,\n",
       " 'ideal_kelly_max': 0.18862478475702926}"
      ]
     },
     "execution_count": 9,
     "metadata": {},
     "output_type": "execute_result"
    }
   ],
   "source": [
    "import texas_hold_em_utils.relative_ranking  as rr\n",
    "card_1 = Card().from_str(\"A\", \"Hearts\")\n",
    "card_2 = Card().from_str(\"6\", \"Hearts\")\n",
    "rr.get_hand_rank_details([card_1, card_2])"
   ]
  },
  {
   "cell_type": "code",
   "execution_count": 11,
   "metadata": {},
   "outputs": [
    {
     "data": {
      "text/plain": [
       "{'expected_win_rate': 0.4266864239345187,\n",
       " 'expected_2_player_win_rate': 0.5943123923785146,\n",
       " 'percentile': 85.84615384615385,\n",
       " 'ideal_kelly_max': 0.14002963590177808}"
      ]
     },
     "execution_count": 11,
     "metadata": {},
     "output_type": "execute_result"
    }
   ],
   "source": [
    "rr.get_hand_rank_details([card_1, card_2], player_count=3)"
   ]
  }
 ],
 "metadata": {
  "kernelspec": {
   "display_name": ".venv",
   "language": "python",
   "name": "python3"
  },
  "language_info": {
   "codemirror_mode": {
    "name": "ipython",
    "version": 3
   },
   "file_extension": ".py",
   "mimetype": "text/x-python",
   "name": "python",
   "nbconvert_exporter": "python",
   "pygments_lexer": "ipython3",
   "version": "3.11.0"
  }
 },
 "nbformat": 4,
 "nbformat_minor": 2
}
